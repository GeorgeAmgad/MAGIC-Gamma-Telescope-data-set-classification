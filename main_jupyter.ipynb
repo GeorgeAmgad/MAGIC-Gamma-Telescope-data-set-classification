{
 "cells": [
  {
   "cell_type": "code",
   "execution_count": 66,
   "metadata": {
    "scrolled": true
   },
   "outputs": [
    {
     "data": {
      "text/html": [
       "<div>\n",
       "<style scoped>\n",
       "    .dataframe tbody tr th:only-of-type {\n",
       "        vertical-align: middle;\n",
       "    }\n",
       "\n",
       "    .dataframe tbody tr th {\n",
       "        vertical-align: top;\n",
       "    }\n",
       "\n",
       "    .dataframe thead th {\n",
       "        text-align: right;\n",
       "    }\n",
       "</style>\n",
       "<table border=\"1\" class=\"dataframe\">\n",
       "  <thead>\n",
       "    <tr style=\"text-align: right;\">\n",
       "      <th></th>\n",
       "      <th>length</th>\n",
       "      <th>width</th>\n",
       "      <th>size</th>\n",
       "      <th>conc</th>\n",
       "      <th>conc1</th>\n",
       "      <th>asym</th>\n",
       "      <th>m3long</th>\n",
       "      <th>m3trans</th>\n",
       "      <th>alpha</th>\n",
       "      <th>dist</th>\n",
       "      <th>class</th>\n",
       "    </tr>\n",
       "  </thead>\n",
       "  <tbody>\n",
       "    <tr>\n",
       "      <th>0</th>\n",
       "      <td>27.4068</td>\n",
       "      <td>9.8829</td>\n",
       "      <td>2.3086</td>\n",
       "      <td>0.4177</td>\n",
       "      <td>0.2088</td>\n",
       "      <td>36.2978</td>\n",
       "      <td>18.8603</td>\n",
       "      <td>-6.7724</td>\n",
       "      <td>10.3529</td>\n",
       "      <td>192.2380</td>\n",
       "      <td>g</td>\n",
       "    </tr>\n",
       "    <tr>\n",
       "      <th>1</th>\n",
       "      <td>31.0340</td>\n",
       "      <td>12.8740</td>\n",
       "      <td>2.6474</td>\n",
       "      <td>0.4257</td>\n",
       "      <td>0.2196</td>\n",
       "      <td>9.2704</td>\n",
       "      <td>24.7180</td>\n",
       "      <td>-7.5406</td>\n",
       "      <td>6.3080</td>\n",
       "      <td>160.1350</td>\n",
       "      <td>g</td>\n",
       "    </tr>\n",
       "    <tr>\n",
       "      <th>2</th>\n",
       "      <td>61.5901</td>\n",
       "      <td>49.8072</td>\n",
       "      <td>3.6338</td>\n",
       "      <td>0.1920</td>\n",
       "      <td>0.1148</td>\n",
       "      <td>-33.1866</td>\n",
       "      <td>-76.6020</td>\n",
       "      <td>48.0003</td>\n",
       "      <td>84.7875</td>\n",
       "      <td>285.8583</td>\n",
       "      <td>h</td>\n",
       "    </tr>\n",
       "    <tr>\n",
       "      <th>3</th>\n",
       "      <td>20.6089</td>\n",
       "      <td>7.1467</td>\n",
       "      <td>2.1973</td>\n",
       "      <td>0.7365</td>\n",
       "      <td>0.3778</td>\n",
       "      <td>23.2209</td>\n",
       "      <td>11.4680</td>\n",
       "      <td>-5.8253</td>\n",
       "      <td>36.0741</td>\n",
       "      <td>129.0460</td>\n",
       "      <td>g</td>\n",
       "    </tr>\n",
       "    <tr>\n",
       "      <th>4</th>\n",
       "      <td>20.3722</td>\n",
       "      <td>12.9030</td>\n",
       "      <td>2.2844</td>\n",
       "      <td>0.4519</td>\n",
       "      <td>0.2312</td>\n",
       "      <td>-16.5144</td>\n",
       "      <td>-5.7444</td>\n",
       "      <td>7.3167</td>\n",
       "      <td>50.6061</td>\n",
       "      <td>175.8560</td>\n",
       "      <td>g</td>\n",
       "    </tr>\n",
       "  </tbody>\n",
       "</table>\n",
       "</div>"
      ],
      "text/plain": [
       "    length    width    size    conc   conc1     asym   m3long  m3trans  \\\n",
       "0  27.4068   9.8829  2.3086  0.4177  0.2088  36.2978  18.8603  -6.7724   \n",
       "1  31.0340  12.8740  2.6474  0.4257  0.2196   9.2704  24.7180  -7.5406   \n",
       "2  61.5901  49.8072  3.6338  0.1920  0.1148 -33.1866 -76.6020  48.0003   \n",
       "3  20.6089   7.1467  2.1973  0.7365  0.3778  23.2209  11.4680  -5.8253   \n",
       "4  20.3722  12.9030  2.2844  0.4519  0.2312 -16.5144  -5.7444   7.3167   \n",
       "\n",
       "     alpha      dist class  \n",
       "0  10.3529  192.2380     g  \n",
       "1   6.3080  160.1350     g  \n",
       "2  84.7875  285.8583     h  \n",
       "3  36.0741  129.0460     g  \n",
       "4  50.6061  175.8560     g  "
      ]
     },
     "execution_count": 66,
     "metadata": {},
     "output_type": "execute_result"
    }
   ],
   "source": [
    "import matplotlib.pyplot as plt\n",
    "import pandas as pd\n",
    "import seaborn as sns\n",
    "import numpy as np\n",
    "from data_set import encode_target\n",
    "from sklearn.feature_selection import *\n",
    "\n",
    "# to download these libraries\n",
    "# open the terminal and type : pip install +library name\n",
    "\n",
    "# example : pip install pandas\n",
    "\n",
    "\n",
    "names = [\"length\", \"width\", \"size\", \"conc\", \"conc1\",\n",
    "         \"asym\", \"m3long\", \"m3trans\", \"alpha\", \"dist\", \"class\"]\n",
    "\n",
    "features =  [\"length\", \"width\", \"size\", \"conc\", \"conc1\",\n",
    "         \"asym\", \"m3long\", \"m3trans\", \"alpha\", \"dist\"]\n",
    "\n",
    "data = pd.read_csv('all_data.txt', names=names)\n",
    "\n",
    "array = data.values\n",
    "X = array[:,0:10]\n",
    "Y = array[:,10]\n",
    "\n",
    "data.head()"
   ]
  },
  {
   "cell_type": "code",
   "execution_count": 67,
   "metadata": {},
   "outputs": [
    {
     "data": {
      "image/png": "[encoded data removed]",
      "text/plain": [
       "<Figure size 432x288 with 1 Axes>"
      ]
     },
     "metadata": {
      "needs_background": "light"
     },
     "output_type": "display_data"
    }
   ],
   "source": [
    "plt.plot(X,Y)\n",
    "plt.show()"
   ]
  },
  {
   "cell_type": "code",
   "execution_count": 68,
   "metadata": {},
   "outputs": [
    {
     "data": {
      "text/plain": [
       "array([[<matplotlib.axes._subplots.AxesSubplot object at 0x011FECB0>,\n",
       "        <matplotlib.axes._subplots.AxesSubplot object at 0x012EBCD0>,\n",
       "        <matplotlib.axes._subplots.AxesSubplot object at 0x0130AD70>],\n",
       "       [<matplotlib.axes._subplots.AxesSubplot object at 0x0FC62E50>,\n",
       "        <matplotlib.axes._subplots.AxesSubplot object at 0x0FC3EF30>,\n",
       "        <matplotlib.axes._subplots.AxesSubplot object at 0x0FC01FD0>],\n",
       "       [<matplotlib.axes._subplots.AxesSubplot object at 0x0FC2C730>,\n",
       "        <matplotlib.axes._subplots.AxesSubplot object at 0x2DA8E1F0>,\n",
       "        <matplotlib.axes._subplots.AxesSubplot object at 0x2DA8E7B0>],\n",
       "       [<matplotlib.axes._subplots.AxesSubplot object at 0x2DAAE910>,\n",
       "        <matplotlib.axes._subplots.AxesSubplot object at 0x2DAF0A10>,\n",
       "        <matplotlib.axes._subplots.AxesSubplot object at 0x2DB0FAF0>]],\n",
       "      dtype=object)"
      ]
     },
     "execution_count": 68,
     "metadata": {},
     "output_type": "execute_result"
    },
    {
     "data": {
      "image/png": "[encoded data removed]",
      "text/plain": [
       "<Figure size 432x288 with 12 Axes>"
      ]
     },
     "metadata": {
      "needs_background": "light"
     },
     "output_type": "display_data"
    }
   ],
   "source": [
    "data.hist()"
   ]
  },
  {
   "cell_type": "code",
   "execution_count": 69,
   "metadata": {},
   "outputs": [
    {
     "data": {
      "image/png": "[encoded data removed]",
      "text/plain": [
       "<Figure size 288x288 with 1 Axes>"
      ]
     },
     "metadata": {
      "needs_background": "light"
     },
     "output_type": "display_data"
    }
   ],
   "source": [
    "plt.matshow(data.corr())\n",
    "plt.title('correlation matrix')\n",
    "plt.show()"
   ]
  },
  {
   "cell_type": "code",
   "execution_count": 70,
   "metadata": {},
   "outputs": [
    {
     "data": {
      "image/png": "[encoded data removed]",
      "text/plain": [
       "<Figure size 432x288 with 1 Axes>"
      ]
     },
     "metadata": {
      "needs_background": "light"
     },
     "output_type": "display_data"
    }
   ],
   "source": [
    "data.boxplot()\n",
    "plt.show()"
   ]
  },
  {
   "cell_type": "code",
   "execution_count": 71,
   "metadata": {},
   "outputs": [
    {
     "name": "stdout",
     "output_type": "stream",
     "text": [
      "Num Features: 4\n",
      "Selected Features: [ True  True  True False False False False False  True False]\n",
      "Feature Ranking: [1 1 1 7 2 6 3 4 1 5]\n"
     ]
    }
   ],
   "source": [
    "# feature selection using The Recursive Feature Elimination\n",
    "\n",
    "# It uses the model accuracy to identify which attributes (and combination \n",
    "# of attributes) contribute the most to predicting the target attribute\n",
    "\n",
    "# The classification algorithm below uses RFE with the logistic regression\n",
    "# algorithm to select the top 3 features. The choice of algorithm does not \n",
    "# matter too much as long as it is skillful and consistent.\n",
    "\n",
    "# separate classification from data\n",
    "from sklearn.linear_model import LogisticRegression\n",
    "from sklearn.ensemble import AdaBoostClassifier\n",
    "from sklearn.tree import DecisionTreeClassifier\n",
    "\n",
    "# feature extraction\n",
    "# could use any model of classification to calculate ranking\n",
    "model = AdaBoostClassifier(n_estimators=30) \n",
    "rfe = RFE(model, 4)\n",
    "fit = rfe.fit(X, Y)\n",
    "print(\"Num Features:\", fit.n_features_)\n",
    "print(\"Selected Features:\", fit.support_)\n",
    "print(\"Feature Ranking:\", fit.ranking_)\n",
    "\n",
    "# features selected : length, width, size, alpha"
   ]
  },
  {
   "cell_type": "code",
   "execution_count": 72,
   "metadata": {
    "scrolled": true
   },
   "outputs": [
    {
     "name": "stdout",
     "output_type": "stream",
     "text": [
      "[0.12434857 0.09996688 0.10311124 0.06732762 0.06536738 0.06371754\n",
      " 0.08006046 0.06025561 0.26719607 0.06864863]\n"
     ]
    },
    {
     "data": {
      "image/png": "[encoded data removed]",
      "text/plain": [
       "<Figure size 432x288 with 1 Axes>"
      ]
     },
     "metadata": {
      "needs_background": "light"
     },
     "output_type": "display_data"
    }
   ],
   "source": [
    "# feature selection using feature importance\n",
    "\n",
    "# Bagged decision trees like Random Forest and Extra Trees\n",
    "# can be used to estimate the importance of features.\n",
    "\n",
    "from sklearn.ensemble import ExtraTreesClassifier\n",
    "model = ExtraTreesClassifier(n_estimators=1000)\n",
    "model.fit(X, Y)\n",
    "print(model.feature_importances_)\n",
    "\n",
    "feature_importances = pd.Series(model.feature_importances_)\n",
    "feature_importances.nlargest(10).plot(kind='barh')\n",
    "plt.show()\n",
    "\n",
    "# features selected : alpha, length, size, width"
   ]
  },
  {
   "cell_type": "code",
   "execution_count": 88,
   "metadata": {},
   "outputs": [
    {
     "data": {
      "text/html": [
       "<div>\n",
       "<style scoped>\n",
       "    .dataframe tbody tr th:only-of-type {\n",
       "        vertical-align: middle;\n",
       "    }\n",
       "\n",
       "    .dataframe tbody tr th {\n",
       "        vertical-align: top;\n",
       "    }\n",
       "\n",
       "    .dataframe thead th {\n",
       "        text-align: right;\n",
       "    }\n",
       "</style>\n",
       "<table border=\"1\" class=\"dataframe\">\n",
       "  <thead>\n",
       "    <tr style=\"text-align: right;\">\n",
       "      <th></th>\n",
       "      <th>length</th>\n",
       "      <th>width</th>\n",
       "      <th>size</th>\n",
       "      <th>alpha</th>\n",
       "      <th>class</th>\n",
       "    </tr>\n",
       "  </thead>\n",
       "  <tbody>\n",
       "    <tr>\n",
       "      <th>0</th>\n",
       "      <td>27.4068</td>\n",
       "      <td>9.8829</td>\n",
       "      <td>2.3086</td>\n",
       "      <td>10.3529</td>\n",
       "      <td>g</td>\n",
       "    </tr>\n",
       "    <tr>\n",
       "      <th>1</th>\n",
       "      <td>31.0340</td>\n",
       "      <td>12.8740</td>\n",
       "      <td>2.6474</td>\n",
       "      <td>6.3080</td>\n",
       "      <td>g</td>\n",
       "    </tr>\n",
       "    <tr>\n",
       "      <th>2</th>\n",
       "      <td>61.5901</td>\n",
       "      <td>49.8072</td>\n",
       "      <td>3.6338</td>\n",
       "      <td>84.7875</td>\n",
       "      <td>h</td>\n",
       "    </tr>\n",
       "    <tr>\n",
       "      <th>3</th>\n",
       "      <td>20.6089</td>\n",
       "      <td>7.1467</td>\n",
       "      <td>2.1973</td>\n",
       "      <td>36.0741</td>\n",
       "      <td>g</td>\n",
       "    </tr>\n",
       "    <tr>\n",
       "      <th>4</th>\n",
       "      <td>20.3722</td>\n",
       "      <td>12.9030</td>\n",
       "      <td>2.2844</td>\n",
       "      <td>50.6061</td>\n",
       "      <td>g</td>\n",
       "    </tr>\n",
       "  </tbody>\n",
       "</table>\n",
       "</div>"
      ],
      "text/plain": [
       "    length    width    size    alpha class\n",
       "0  27.4068   9.8829  2.3086  10.3529     g\n",
       "1  31.0340  12.8740  2.6474   6.3080     g\n",
       "2  61.5901  49.8072  3.6338  84.7875     h\n",
       "3  20.6089   7.1467  2.1973  36.0741     g\n",
       "4  20.3722  12.9030  2.2844  50.6061     g"
      ]
     },
     "execution_count": 88,
     "metadata": {},
     "output_type": "execute_result"
    }
   ],
   "source": [
    "# making another train-test data based on feature selections\n",
    "\n",
    "from sklearn.model_selection import train_test_split\n",
    "\n",
    "data_elim = data.drop(columns=[ \"asym\" ])\n",
    "data_elim = data_elim.drop(columns=[ \"m3long\"])\n",
    "data_elim = data_elim.drop(columns=[\"m3trans\"])\n",
    "data_elim = data_elim.drop(columns=[\"dist\"])\n",
    "# data_elim = data_elim.drop(columns=[\"length\"])\n",
    "# data_elim = data_elim.drop(columns=[\"width\"])\n",
    "data_elim = data_elim.drop(columns=[\"conc\"])\n",
    "data_elim = data_elim.drop(columns=[\"conc1\"])\n",
    "array_e = data_elim.values\n",
    "Xe = array_e[:,0:4]\n",
    "Ye = array_e[:,4]\n",
    "\n",
    "# splitting data into train-test \n",
    "\n",
    "Xe_train, Xe_test, ye_train, ye_test = train_test_split( Xe, Ye, test_size = 0.3, random_state = 100)\n",
    "\n",
    "X_train, X_test, y_train, y_test = train_test_split( X, Y, test_size = 0.3, random_state = 100)\n",
    "\n",
    "data_elim.head()"
   ]
  },
  {
   "cell_type": "code",
   "execution_count": 93,
   "metadata": {
    "scrolled": true
   },
   "outputs": [
    {
     "name": "stdout",
     "output_type": "stream",
     "text": [
      "evaluation of decision tree without feature selection :\n",
      "Accuracy: 78.7375415282392\n",
      "precision: 78.95898596448201\n",
      "recall: 78.67638129933212\n",
      "F-measure: 78.6695012844362\n",
      "confusion matrix:\n",
      "[[50800 10200]\n",
      " [15400 44000]]\n",
      "\n",
      "evaluation of decision tree after feature selection :\n",
      "Accuracy: 78.82059800664452\n",
      "precision: 78.95836979136284\n",
      "recall: 78.77159573880886\n",
      "F-measure: 78.77302233803731\n",
      "confusion matrix:\n",
      "[[50300 10700]\n",
      " [14800 44600]]\n"
     ]
    },
    {
     "data": {
      "text/plain": [
       "'Decision tree with fs.pdf'"
      ]
     },
     "execution_count": 93,
     "metadata": {},
     "output_type": "execute_result"
    }
   ],
   "source": [
    "# decision tree classification\n",
    "import os\n",
    "# put here the path to bin files of graphviz after you download it from\n",
    "# https://graphviz.gitlab.io/_pages/Download/Download_windows.html\n",
    "os.environ[\"PATH\"] += os.pathsep + 'C:/Program Files (x86)/Graphviz2.38/bin/'\n",
    "from sklearn.tree import DecisionTreeClassifier, export_graphviz\n",
    "import graphviz\n",
    "from sklearn import tree\n",
    "from sklearn.metrics import accuracy_score\n",
    "from sklearn.metrics import precision_score\n",
    "from sklearn.metrics import recall_score\n",
    "from sklearn.metrics import f1_score\n",
    "from sklearn.metrics import confusion_matrix\n",
    "\n",
    "\n",
    "dt = DecisionTreeClassifier(criterion = \"gini\", random_state = 100, max_depth=10) \n",
    "dt.fit(X_train, y_train)\n",
    "\n",
    "y_pred = dt.predict(X_test)\n",
    "\n",
    "dot_data = tree.export_graphviz(dt, out_file=None, class_names=True)\n",
    "graph = graphviz.Source(dot_data)\n",
    "graph.render(\"Decision tree\")\n",
    "\n",
    "print (\"evaluation of decision tree without feature selection :\")\n",
    "print (\"Accuracy:\", accuracy_score(y_test, y_pred)*100)\n",
    "print (\"precision:\", precision_score(y_test, y_pred, average=\"macro\")*100)\n",
    "print (\"recall:\", recall_score(y_test, y_pred, average=\"macro\")*100)\n",
    "print (\"F-measure:\", f1_score(y_test, y_pred, average=\"macro\")*100)\n",
    "print (\"confusion matrix:\")\n",
    "print(confusion_matrix(y_test, y_pred)*100)\n",
    "print()\n",
    "\n",
    "dt = DecisionTreeClassifier(criterion = \"gini\", random_state = 100, max_depth=10) \n",
    "dt.fit(Xe_train, ye_train)\n",
    "\n",
    "ye_pred = dt.predict(Xe_test)\n",
    "\n",
    "print (\"evaluation of decision tree after feature selection :\")\n",
    "print (\"Accuracy:\", accuracy_score(ye_test, ye_pred)*100)\n",
    "print (\"precision:\", precision_score(ye_test, ye_pred, average=\"macro\")*100)\n",
    "print (\"recall:\", recall_score(ye_test, ye_pred, average=\"macro\")*100)\n",
    "print (\"F-measure:\", f1_score(ye_test, ye_pred, average=\"macro\")*100)\n",
    "print (\"confusion matrix:\")\n",
    "print(confusion_matrix(ye_test, ye_pred)*100)\n",
    "\n",
    "dot_data = tree.export_graphviz(dt, out_file=None, class_names=True)\n",
    "graph = graphviz.Source(dot_data)\n",
    "graph.render(\"Decision tree with fs\")"
   ]
  },
  {
   "cell_type": "code",
   "execution_count": 91,
   "metadata": {
    "scrolled": true
   },
   "outputs": [
    {
     "name": "stdout",
     "output_type": "stream",
     "text": [
      "finding best n without feature selection\n"
     ]
    },
    {
     "data": {
      "image/png": "[encoded data removed]",
      "text/plain": [
       "<Figure size 432x288 with 1 Axes>"
      ]
     },
     "metadata": {
      "needs_background": "light"
     },
     "output_type": "display_data"
    },
    {
     "name": "stdout",
     "output_type": "stream",
     "text": [
      "Highest score is at n = 30 equals : 0.8164451827242525\n",
      "\n",
      "finding best n with feature selection\n"
     ]
    },
    {
     "data": {
      "image/png": "[encoded data removed]",
      "text/plain": [
       "<Figure size 432x288 with 1 Axes>"
      ]
     },
     "metadata": {
      "needs_background": "light"
     },
     "output_type": "display_data"
    },
    {
     "name": "stdout",
     "output_type": "stream",
     "text": [
      "Highest score is at n = 29 equals : 0.8114617940199336\n"
     ]
    }
   ],
   "source": [
    "# AdaBoost classification\n",
    "from sklearn.ensemble import AdaBoostClassifier\n",
    "n_range = range(1,100)\n",
    "scores_list = []\n",
    "\n",
    "for n in n_range:\n",
    "    model = AdaBoostClassifier(n_estimators=n)\n",
    "    model.fit(X_train, y_train)\n",
    "    y_pred = model.predict(X_test)\n",
    "    scores_list.append(accuracy_score(y_test, y_pred))\n",
    "print(\"finding best n without feature selection\")\n",
    "plt.plot(n_range, scores_list)\n",
    "plt.xlabel(\"value of n for AdaBoost\")\n",
    "plt.ylabel(\"Testing accuracy\")\n",
    "plt.show()\n",
    "best_n = scores_list.index(max(scores_list)) + 1\n",
    "print(\"Highest score is at n =\", best_n, \"equals :\"\n",
    "      ,scores_list[scores_list.index(max(scores_list))])\n",
    "print()\n",
    "\n",
    "n_range_e = range(1,100)\n",
    "scores_e_list = []\n",
    "for n in n_range_e:\n",
    "    model = AdaBoostClassifier(n_estimators=n)\n",
    "    model.fit(Xe_train, ye_train)\n",
    "    ye_pred = model.predict(Xe_test)\n",
    "    scores_e_list.append(accuracy_score(ye_test, ye_pred))\n",
    "print(\"finding best n with feature selection\")    \n",
    "plt.plot(n_range_e, scores_e_list)\n",
    "plt.xlabel(\"value of n for AdaBoost\")\n",
    "plt.ylabel(\"Testing accuracy\")\n",
    "plt.show()\n",
    "best_n_e = scores_e_list.index(max(scores_e_list)) + 1\n",
    "print(\"Highest score is at n =\", best_n_e, \"equals :\"\n",
    "      ,scores_e_list[scores_e_list.index(max(scores_e_list))])"
   ]
  },
  {
   "cell_type": "code",
   "execution_count": 76,
   "metadata": {},
   "outputs": [
    {
     "name": "stdout",
     "output_type": "stream",
     "text": [
      "evaluation of AdaBoost(decision tree) without feature selection :\n",
      "Accuracy: 81.64451827242524\n",
      "precision: 81.6435018473909\n",
      "recall: 81.64900369818402\n",
      "F-measure: 81.64349256830639\n",
      "confusion matrix:\n",
      "[[49600 11400]\n",
      " [10700 48700]]\n",
      "\n",
      "evaluation of AdaBoost after feature selection :\n",
      "Accuracy: 81.22923588039868\n",
      "precision: 81.22737306843266\n",
      "recall: 81.23254401942927\n",
      "F-measure: 81.22794091269085\n",
      "confusion matrix:\n",
      "[[49400 11600]\n",
      " [11000 48400]]\n"
     ]
    }
   ],
   "source": [
    "\n",
    "ada = AdaBoostClassifier(n_estimators=30)\n",
    "ada.fit(X_train, y_train)\n",
    "y_pred = ada.predict(X_test)\n",
    "\n",
    "print (\"evaluation of AdaBoost(decision tree) without feature selection :\")\n",
    "print (\"Accuracy:\", accuracy_score(y_test, y_pred)*100)\n",
    "print (\"precision:\", precision_score(y_test, y_pred, average=\"macro\")*100)\n",
    "print (\"recall:\", recall_score(y_test, y_pred, average=\"macro\")*100)\n",
    "print (\"F-measure:\", f1_score(y_test, y_pred, average=\"macro\")*100)\n",
    "print (\"confusion matrix:\")\n",
    "print(confusion_matrix(y_test, y_pred)*100)\n",
    "print()\n",
    "\n",
    "ada = AdaBoostClassifier(n_estimators=29)\n",
    "ada.fit(Xe_train, ye_train)\n",
    "ye_pred = ada.predict(Xe_test)\n",
    "\n",
    "print (\"evaluation of AdaBoost after feature selection :\")\n",
    "print (\"Accuracy:\", accuracy_score(ye_test, ye_pred)*100)\n",
    "print (\"precision:\", precision_score(ye_test, ye_pred, average=\"macro\")*100)\n",
    "print (\"recall:\", recall_score(ye_test, ye_pred, average=\"macro\")*100)\n",
    "print (\"F-measure:\", f1_score(ye_test, ye_pred, average=\"macro\")*100)\n",
    "print (\"confusion matrix:\")\n",
    "print(confusion_matrix(ye_test, ye_pred)*100)"
   ]
  },
  {
   "cell_type": "code",
   "execution_count": 92,
   "metadata": {
    "scrolled": true
   },
   "outputs": [
    {
     "name": "stdout",
     "output_type": "stream",
     "text": [
      "evaluation of logistic regression without feature selection :\n",
      "Accuracy: 77.49169435215947\n",
      "precision: 78.1145625292143\n",
      "recall: 77.38946845504222\n",
      "F-measure: 77.31919635254218\n",
      "confusion matrix:\n",
      "[[51900  9100]\n",
      " [18000 41400]]\n",
      "\n",
      "evaluation of logistic regression after feature selection :\n",
      "Accuracy: 76.99335548172758\n",
      "precision: 77.49609995401754\n",
      "recall: 76.89987304741403\n",
      "F-measure: 76.84305103363613\n",
      "confusion matrix:\n",
      "[[51200  9800]\n",
      " [17900 41500]]\n"
     ]
    }
   ],
   "source": [
    "# logistic regression classification\n",
    "from scipy.special import expit\n",
    "\n",
    "model = LogisticRegression(solver=\"lbfgs\", max_iter=1000) \n",
    "model.fit(X_train, y_train)\n",
    "y_pred = model.predict(X_test)\n",
    "\n",
    "print (\"evaluation of logistic regression without feature selection :\")\n",
    "print (\"Accuracy:\", accuracy_score(y_test, y_pred)*100)\n",
    "print (\"precision:\", precision_score(y_test, y_pred, average=\"macro\")*100)\n",
    "print (\"recall:\", recall_score(y_test, y_pred, average=\"macro\")*100)\n",
    "print (\"F-measure:\", f1_score(y_test, y_pred, average=\"macro\")*100)\n",
    "print (\"confusion matrix:\")\n",
    "print(confusion_matrix(y_test, y_pred)*100)\n",
    "print()\n",
    "\n",
    "model = LogisticRegression(solver=\"lbfgs\", max_iter=1000) \n",
    "model.fit(Xe_train, ye_train)\n",
    "ye_pred = model.predict(Xe_test)\n",
    "\n",
    "print (\"evaluation of logistic regression after feature selection :\")\n",
    "print (\"Accuracy:\", accuracy_score(ye_test, ye_pred)*100)\n",
    "print (\"precision:\", precision_score(ye_test, ye_pred, average=\"macro\")*100)\n",
    "print (\"recall:\", recall_score(ye_test, ye_pred, average=\"macro\")*100)\n",
    "print (\"F-measure:\", f1_score(ye_test, ye_pred, average=\"macro\")*100)\n",
    "print (\"confusion matrix:\")\n",
    "print(confusion_matrix(ye_test, ye_pred)*100)"
   ]
  },
  {
   "cell_type": "code",
   "execution_count": 78,
   "metadata": {},
   "outputs": [
    {
     "name": "stdout",
     "output_type": "stream",
     "text": [
      "finding best K without feature selection\n"
     ]
    },
    {
     "data": {
      "image/png": "[encoded data removed]",
      "text/plain": [
       "<Figure size 432x288 with 1 Axes>"
      ]
     },
     "metadata": {
      "needs_background": "light"
     },
     "output_type": "display_data"
    },
    {
     "name": "stdout",
     "output_type": "stream",
     "text": [
      "Highest score is at K = 36 equals : 0.7624584717607974\n",
      "\n",
      "finding best K with feature selection\n"
     ]
    },
    {
     "data": {
      "image/png": "[encoded data removed]",
      "text/plain": [
       "<Figure size 432x288 with 1 Axes>"
      ]
     },
     "metadata": {
      "needs_background": "light"
     },
     "output_type": "display_data"
    },
    {
     "name": "stdout",
     "output_type": "stream",
     "text": [
      "Highest score is at K = 51 equals : 0.7882059800664452\n"
     ]
    }
   ],
   "source": [
    "# K-neighbours classifier \n",
    "from sklearn.neighbors import KNeighborsClassifier\n",
    "\n",
    "k_range = range(1,80)\n",
    "scores_list = []\n",
    "\n",
    "for k in k_range:\n",
    "    knn = KNeighborsClassifier(n_neighbors=k, weights='distance')\n",
    "    knn.fit(X_train, y_train)\n",
    "    y_pred = knn.predict(X_test)\n",
    "    scores_list.append(accuracy_score(y_test, y_pred))\n",
    "print(\"finding best K without feature selection\")\n",
    "plt.plot(k_range, scores_list)\n",
    "plt.xlabel(\"value of K for K-NN\")\n",
    "plt.ylabel(\"Testing accuracy\")\n",
    "plt.show()\n",
    "best_k = scores_list.index(max(scores_list)) + 1\n",
    "print(\"Highest score is at K =\", best_k, \"equals :\"\n",
    "      ,scores_list[scores_list.index(max(scores_list))])\n",
    "print()\n",
    "\n",
    "k_range_e = range(1,150)\n",
    "scores_e_list = []\n",
    "for k in k_range_e:\n",
    "    knn = KNeighborsClassifier(n_neighbors=k, weights='distance')\n",
    "    knn.fit(Xe_train, ye_train)\n",
    "    ye_pred = knn.predict(Xe_test)\n",
    "    scores_e_list.append(accuracy_score(ye_test, ye_pred))\n",
    "print(\"finding best K with feature selection\")    \n",
    "plt.plot(k_range_e, scores_e_list)\n",
    "plt.xlabel(\"value of K for K-NN\")\n",
    "plt.ylabel(\"Testing accuracy\")\n",
    "plt.show()\n",
    "best_k_e = scores_e_list.index(max(scores_e_list)) + 1\n",
    "print(\"Highest score is at K =\", best_k_e, \"equals :\"\n",
    "      ,scores_e_list[scores_e_list.index(max(scores_e_list))])"
   ]
  },
  {
   "cell_type": "code",
   "execution_count": 79,
   "metadata": {},
   "outputs": [
    {
     "name": "stdout",
     "output_type": "stream",
     "text": [
      "evaluation of K-NN without feature selection :\n",
      "Accuracy: 76.24584717607974\n",
      "precision: 77.1590909090909\n",
      "recall: 76.12021857923497\n",
      "F-measure: 75.98281417830289\n",
      "confusion matrix:\n",
      "[[52200  8800]\n",
      " [19800 39600]]\n",
      "\n",
      "evaluation of K-NN after feature selection :\n",
      "Accuracy: 78.82059800664452\n",
      "precision: 79.39176500820336\n",
      "recall: 78.72523044654191\n",
      "F-measure: 78.67642717988075\n",
      "confusion matrix:\n",
      "[[52400  8600]\n",
      " [16900 42500]]\n"
     ]
    }
   ],
   "source": [
    "\n",
    "model = KNeighborsClassifier(n_neighbors=best_k, weights='distance')\n",
    "model.fit(X_train, y_train)\n",
    "y_pred = model.predict(X_test)\n",
    "\n",
    "print (\"evaluation of K-NN without feature selection :\")\n",
    "print (\"Accuracy:\", accuracy_score(y_test, y_pred)*100)\n",
    "print (\"precision:\", precision_score(y_test, y_pred, average=\"macro\")*100)\n",
    "print (\"recall:\", recall_score(y_test, y_pred, average=\"macro\")*100)\n",
    "print (\"F-measure:\", f1_score(y_test, y_pred, average=\"macro\")*100)\n",
    "print (\"confusion matrix:\")\n",
    "print(confusion_matrix(y_test, y_pred)*100)\n",
    "print()\n",
    "\n",
    "model = KNeighborsClassifier(n_neighbors=best_k_e, weights='distance')\n",
    "model.fit(Xe_train, ye_train)\n",
    "ye_pred = model.predict(Xe_test)\n",
    "\n",
    "print (\"evaluation of K-NN after feature selection :\")\n",
    "print (\"Accuracy:\", accuracy_score(ye_test, ye_pred)*100)\n",
    "print (\"precision:\", precision_score(ye_test, ye_pred, average=\"macro\")*100)\n",
    "print (\"recall:\", recall_score(ye_test, ye_pred, average=\"macro\")*100)\n",
    "print (\"F-measure:\", f1_score(ye_test, ye_pred, average=\"macro\")*100)\n",
    "print (\"confusion matrix:\")\n",
    "print(confusion_matrix(ye_test, ye_pred)*100)"
   ]
  },
  {
   "cell_type": "code",
   "execution_count": 80,
   "metadata": {},
   "outputs": [
    {
     "name": "stdout",
     "output_type": "stream",
     "text": [
      "evaluation of naive bayes without feature selection :\n",
      "Accuracy: 63.87043189368771\n",
      "precision: 69.06970585600847\n",
      "recall: 63.51410277639786\n",
      "F-measure: 60.87775924441652\n",
      "confusion matrix:\n",
      "[[55100  5900]\n",
      " [37600 21800]]\n",
      "\n",
      "evaluation of naive bayes after feature selection :\n",
      "Accuracy: 67.77408637873754\n",
      "precision: 71.28249543452573\n",
      "recall: 67.49682618535078\n",
      "F-measure: 66.17223231173406\n",
      "confusion matrix:\n",
      "[[53900  7100]\n",
      " [31700 27700]]\n"
     ]
    }
   ],
   "source": [
    "# naive bayes classifier\n",
    "from sklearn.naive_bayes import GaussianNB\n",
    "\n",
    "model = GaussianNB()\n",
    "model.fit(X_train, y_train)\n",
    "y_pred = model.predict(X_test)\n",
    "\n",
    "print (\"evaluation of naive bayes without feature selection :\")\n",
    "print (\"Accuracy:\", accuracy_score(y_test, y_pred)*100)\n",
    "print (\"precision:\", precision_score(y_test, y_pred, average=\"macro\")*100)\n",
    "print (\"recall:\", recall_score(y_test, y_pred, average=\"macro\")*100)\n",
    "print (\"F-measure:\", f1_score(y_test, y_pred, average=\"macro\")*100)\n",
    "print (\"confusion matrix:\")\n",
    "print(confusion_matrix(y_test, y_pred)*100)\n",
    "print()\n",
    "\n",
    "model = GaussianNB() \n",
    "model.fit(Xe_train, ye_train)\n",
    "ye_pred = model.predict(Xe_test)\n",
    "\n",
    "print (\"evaluation of naive bayes after feature selection :\")\n",
    "print (\"Accuracy:\", accuracy_score(ye_test, ye_pred)*100)\n",
    "print (\"precision:\", precision_score(ye_test, ye_pred, average=\"macro\")*100)\n",
    "print (\"recall:\", recall_score(ye_test, ye_pred, average=\"macro\")*100)\n",
    "print (\"F-measure:\", f1_score(ye_test, ye_pred, average=\"macro\")*100)\n",
    "print (\"confusion matrix:\")\n",
    "print(confusion_matrix(ye_test, ye_pred)*100)\n"
   ]
  },
  {
   "cell_type": "code",
   "execution_count": null,
   "metadata": {},
   "outputs": [],
   "source": []
  }
 ],
 "metadata": {
  "kernelspec": {
   "display_name": "Python 3",
   "language": "python",
   "name": "python3"
  },
  "language_info": {
   "codemirror_mode": {
    "name": "ipython",
    "version": 3
   },
   "file_extension": ".py",
   "mimetype": "text/x-python",
   "name": "python",
   "nbconvert_exporter": "python",
   "pygments_lexer": "ipython3",
   "version": "3.7.4"
  }
 },
 "nbformat": 4,
 "nbformat_minor": 2
}
